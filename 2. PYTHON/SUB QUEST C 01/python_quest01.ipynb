{
  "nbformat": 4,
  "nbformat_minor": 0,
  "metadata": {
    "colab": {
      "provenance": []
    },
    "kernelspec": {
      "name": "python3",
      "display_name": "Python 3"
    },
    "language_info": {
      "name": "python"
    }
  },
  "cells": [
    {
      "cell_type": "code",
      "execution_count": 4,
      "metadata": {
        "id": "-wc7qLF1IEaY",
        "colab": {
          "base_uri": "https://localhost:8080/"
        },
        "outputId": "181869fb-e7bb-4696-89b5-ed130bef130a"
      },
      "outputs": [
        {
          "output_type": "stream",
          "name": "stdout",
          "text": [
            "회문인지 확인할 단어 입력:toaot\n",
            "toaot\n",
            "회문입니다\n"
          ]
        }
      ],
      "source": [
        "# 회문인지 아닌지 확인하는 프로그램\n",
        "# 텍스트 입력\n",
        "# 입력된 단어 출력\n",
        "# 뒤집힌 단어 출력\n",
        "# 입력된 단어가 회문이 맞는지 출력\n",
        "# input,자료형,제어문,함수 활용\n",
        "# 입력:우성우\n",
        "# 출력\n",
        "# 뒤집힌 단어:우성우\n",
        "# 입력된단어는 회문 입니다.\n",
        "\n",
        "#어떻게 해야하나 의사 코드 만들기\n",
        "#함수 정의\n",
        "#뒤집을 단어 입력\n",
        "#출력(뒤집어진 단어)\n",
        "# if 문으로 뒤집어진 단어 대조\n",
        "#만약 맞다면 입력된 단어는 회문입니다.\n",
        "#else 틀리면 이단어는 회문이 아닙니다.\n",
        "#단어가 대소문자 비교가능한가 공백제거\n",
        "\n",
        "test = input(\"회문인지 확인할 단어 입력:\") #테스트 하고싶은 단어\n",
        "\n",
        "def 회문(test):\n",
        "    text = test.strip().lower() #대소문자,공백 여부제거\n",
        "    revers_text = text[::-1] #제거한 텍스트를 뒤집음\n",
        "\n",
        "    if text == revers_text: #바뀐 문자와 비교\n",
        "        return f\"{revers_text}\\n회문입니다\" #f-string 방식으로 두줄문장출력\n",
        "    else:\n",
        "        return f\"{revers_text}\\n회문이아닙니다.\"\n",
        "\n",
        "print(회문(test))\n",
        "\n",
        "\n",
        "\n"
      ]
    }
  ]
}