{
  "nbformat": 4,
  "nbformat_minor": 0,
  "metadata": {
    "colab": {
      "provenance": []
    },
    "kernelspec": {
      "name": "python3",
      "display_name": "Python 3"
    },
    "language_info": {
      "name": "python"
    }
  },
  "cells": [
    {
      "cell_type": "code",
      "source": [
        "from random import randint\n",
        "\n",
        "\n",
        "class Character():\n",
        "    def __init__(self,name,level,hp,at,df):\n",
        "        self.name = name\n",
        "        self.level = level\n",
        "        self.hp = hp\n",
        "        self.at = at\n",
        "        self.df = df\n",
        "    def is_alive(self):\n",
        "        #인스턴스의 현재 체력이 0 이상인지 bool 값을 반환\n",
        "        if self.hp > 0:\n",
        "            return True\n",
        "    def attack_target(self):\n",
        "        #데미지는 1부터 공격력 사이의 랜덤한 정수\n",
        "        damege = randint(1, self.at)\n",
        "        return damege\n",
        "    def take_damage(self,damege):\n",
        "        if damege >self.df:#공격을 받았을 때, (받은 데미지 - 본인의 방어력)만큼 현재 체력이 감소하는\n",
        "            self.hp = self.hp-(damege-self.df)#본인의 방어력이 데미지보다 크다면 체력 감소하지 않음\n",
        "        else:\n",
        "            print(\"효과가 없습니다.\")\n",
        "        return self.hp\n",
        "#레벨 1, 체력 100, 공격력 25, 방어력 5로 초기화하기\n",
        "    #이름을 받아서 플레이어 인스턴스 생성\n",
        "class Playr(Character)\n",
        "    #추가로 경험치 속성을 가지고 있어야함\n",
        "    def __init__(self):\n",
        "        self.name = name\n",
        "        self.level = 1\n",
        "        self.hp = 100\n",
        "        self.at = 25\n",
        "        self.df = 5\n",
        "        self.exp = 0\n",
        "\n",
        "    def gain_experience(self,):\n",
        "\n",
        "        #인수로 받은 정수 만큼 경험치를 획득\n",
        "    def level_up():\n",
        "        #현재 경험치가 50이상이면 레벨을 1, 공격력을 10, 방어력을 5씩 올리는\n",
        "\n",
        "#monster_dict = {‘슬라임’: 1, ‘고블린’: 2, ‘오크’: 3} 딕셔너리를 받아서 몬스터 인스턴스 생성\n",
        "class Monster(Character)\n",
        "    #몬스터의 레벨에 비례하는 체력, 공격력, 방어력 초기화하기\n",
        "    # 체력: 10~30 사이의 랜덤한 정수 * 레벨\n",
        "    # 공격력: 5~20 사이의 랜덤한 정수 * 레벨\n",
        "    # 방어력: 1~5 사이의 랜덤한 정수 * 레벨\n",
        "\n",
        "\n",
        "\n",
        "# 생성된 Monster 인스턴스와 Player 인스턴스가 battle 함수를 통해 전투\n",
        "# player는 생성된 몬스터 3마리(슬라임, 고블린, 오크)와 모두 전투해야함\n",
        "# 전투 도중에 Player가 사망하면 이후 전투를 진행하지 않고 ‘게임오버’ 출력하고 종료\n",
        "\n",
        "def Battle():\n",
        "    # Player 인스턴스와  Monster 인스턴스를 인수로 받아 둘 중 하나의 체력이 0 이하가 될 때까지 공격을 주고 받는 함수\n",
        "    # 만약 Player 인스턴스가 살아남았다면\n",
        "    # Player 인스턴스에 (몬스터 레벨 * 20)만큼의 경험치를 추가\n",
        "    # player의 레벨업 메서드 호출\n",
        "    # ‘전투 승리!’를 출력\n",
        "    # Player 인스턴스가 살아남지 못했을 경우\n",
        "    # ‘전투 패배..’를 출력하기\n",
        "\n",
        "\n"
      ],
      "metadata": {
        "id": "-DTFeJcgVsg1"
      },
      "execution_count": null,
      "outputs": []
    },
    {
      "cell_type": "markdown",
      "source": [
        "# 새 섹션"
      ],
      "metadata": {
        "id": "E0S2s6UktWVT"
      }
    },
    {
      "cell_type": "markdown",
      "source": [
        "# 새 섹션"
      ],
      "metadata": {
        "id": "XOlX2_KDtbYT"
      }
    }
  ]
}