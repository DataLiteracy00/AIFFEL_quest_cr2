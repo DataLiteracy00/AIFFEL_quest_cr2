{
  "nbformat": 4,
  "nbformat_minor": 0,
  "metadata": {
    "colab": {
      "provenance": []
    },
    "kernelspec": {
      "name": "python3",
      "display_name": "Python 3"
    },
    "language_info": {
      "name": "python"
    }
  },
  "cells": [
    {
      "cell_type": "code",
      "execution_count": 10,
      "metadata": {
        "colab": {
          "base_uri": "https://localhost:8080/"
        },
        "id": "HRxrSyN0tO8U",
        "outputId": "190aa8f9-b286-4eb2-8f34-b77aae521258"
      },
      "outputs": [
        {
          "output_type": "stream",
          "name": "stdout",
          "text": [
            "1 라떼 : 2500 원\n",
            "2 아메리카노 : 2000 원\n",
            "3 모카 : 3000 원\n",
            "4 녹차 : 2500 원\n",
            "5 초코라떼 : 3500 원\n",
            "6 아이스티 : 3000 원\n",
            "메뉴를 번호를 적어주세요:3\n",
            "모카 : 3000 원\n",
            "총 합계 금액은 3000입니다\n",
            "현금은 1번 카드는 2번을 눌러주세요:2\n",
            "IC칩 방향에 맞게 카드를 꽂아주세요\n",
            "⟝------------------------------⟞\n",
            "|                               |\n",
            "|                               |\n",
            "|                               |\n",
            "|                               |\n",
            "|                               |\n",
            "모카 : 3000 원\n",
            "합계 금액 :,3000\n",
            "|                               |\n",
            "|                               |\n",
            "|                               |\n",
            "|                               |\n",
            "|                               |\n",
            "⟝------------------------------⟞\n"
          ]
        }
      ],
      "source": [
        "menu = ['라떼','아메리카노','모카','녹차','초코라떼','아이스티']\n",
        "price = [2500,2000,3000,2500,3500,3000]\n",
        "\n",
        "\n",
        "class Kiosk:\n",
        "    def __init__(self):\n",
        "        self.menu = menu\n",
        "        self.price = price\n",
        "        self.menu_total = []\n",
        "        self.menu_price_total = []\n",
        "        self.menu_price_sum = 0\n",
        "\n",
        "    # 메뉴 출력 메서드\n",
        "    def menu_print(self):\n",
        "        for i in range(len(self.menu)):\n",
        "            print(i+1,self.menu[i],':',self.price[i],'원')\n",
        "\n",
        "    #주문 메서드\n",
        "    def menu_select(self):\n",
        "        n = int(input('메뉴를 번호를 적어주세요:')) # ex 1기입\n",
        "        self.menu_price_sum += self.price[n-1]\n",
        "        self.menu_total.append(self.menu[n-1])\n",
        "        self.menu_price_total.append(self.price[n-1])\n",
        "        print(self.menu[n-1],':',self.price[n-1],'원')\n",
        "\n",
        "\n",
        "    # # 지불\n",
        "    def pay(self):\n",
        "        print (f'총 합계 금액은 {self.menu_price_sum}입니다')\n",
        "        self.pay_methood = 0\n",
        "        while self.pay_methood != 1 and self.pay_methood != 2:\n",
        "            self.pay_methood = int(input('현금은 1번 카드는 2번을 눌러주세요:'))\n",
        "            if self.pay_methood ==1:\n",
        "                print('직원을 호출하겠습니다.')\n",
        "            elif self.pay_methood ==2:\n",
        "                print ('IC칩 방향에 맞게 카드를 꽂아주세요')\n",
        "            else:\n",
        "                print('다시 결제를 시도해 주세요.')\n",
        "    # # 주문서 출력\n",
        "    def table(self):\n",
        "        # 외곽\n",
        "        print('⟝' + '-' * 30 + '⟞')\n",
        "        for i in range(5):\n",
        "            print('|' + ' ' * 31 + '|')\n",
        "\n",
        "        # 주문 상품명 : 해당 금액\n",
        "        for i in range(len(self.menu_total)):\n",
        "            print(self.menu_total[i-1],':',self.menu_price_total[i-1],'원')\n",
        "\n",
        "        print(f'합계 금액 :,{self.menu_price_sum}' )\n",
        "\n",
        "        # 외곽\n",
        "        for i in range(5):\n",
        "            print('|' + ' ' * 31+ '|')\n",
        "        print('⟝' + '-' * 30 + '⟞')\n",
        "\n",
        "\n",
        "a = Kiosk()  # 객체 생성\n",
        "a.menu_print()  # 메뉴 출력\n",
        "a.menu_select()  # 주문\n",
        "a.pay()  # 지불\n",
        "a.table()  # 주문표 출력"
      ]
    }
  ]
}