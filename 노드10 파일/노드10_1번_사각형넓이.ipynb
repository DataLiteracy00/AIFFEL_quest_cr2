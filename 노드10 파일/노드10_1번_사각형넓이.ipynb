{
  "nbformat": 4,
  "nbformat_minor": 0,
  "metadata": {
    "colab": {
      "provenance": []
    },
    "kernelspec": {
      "name": "python3",
      "display_name": "Python 3"
    },
    "language_info": {
      "name": "python"
    }
  },
  "cells": [
    {
      "cell_type": "code",
      "execution_count": 12,
      "metadata": {
        "colab": {
          "base_uri": "https://localhost:8080/"
        },
        "id": "HRxrSyN0tO8U",
        "outputId": "7bf6607d-2643-4b89-97e4-641a6516cbfc"
      },
      "outputs": [
        {
          "output_type": "stream",
          "name": "stdout",
          "text": [
            "넓이를 구하고 싶은 사각형의 숫자를 써주세요.\n",
            " 1.직사각형 2.평행사변형 3.사다리꼴 \n",
            " >>>2\n",
            "평행사변형 함수는 par()입니다.\n",
            "밑변,높이를 입력하세요.:3,5\n",
            "마름모꼴의 넓이는:15\n"
          ]
        }
      ],
      "source": [
        "# 사각형 넓이를 구하는 클래스 완성!\n",
        "class Square:\n",
        "    def __init__(self):\n",
        "        self.square = int(input('넓이를 구하고 싶은 사각형의 숫자를 써주세요.\\n 1.직사각형 2.평행사변형 3.사다리꼴 \\n >>>'))\n",
        "\n",
        "        if self.square == 1:\n",
        "            print('직사각형 함수는 rect()입니다.')\n",
        "            print(self.rect())\n",
        "\n",
        "        elif self.square == 2:\n",
        "            print('평행사변형 함수는 par()입니다.')\n",
        "            print(self.par())\n",
        "\n",
        "        elif self.square == 3:\n",
        "            print('사다리꼴 함수는 trape()입니다.')\n",
        "            print(self.trape())\n",
        "\n",
        "        else:\n",
        "            print('1, 2, 3 중에서 다시 입력해주세요')\n",
        "\n",
        "    def rect(self):\n",
        "        width, vertical = map(int, input('가로, 세로를 입력하세요. 예시 : 가로,세로\\n >>>').split(','))\n",
        "        area = width * vertical\n",
        "        result = '직사각형의 넓이는 : ' + str(area)\n",
        "        return result\n",
        "\n",
        "    def par(self):\n",
        "        bottom,height = map(int,input('밑변,높이를 입력하세요.:').split(\",\"))\n",
        "        area = bottom * height\n",
        "        result = '마름모꼴의 넓이는:' + str(area)\n",
        "        return result\n",
        "\n",
        "    def trape(self):\n",
        "        bottom,top,height = map(int,input('밑변,윗변,높이를 입력하세요:').split(\",\"))\n",
        "        area = (bottom + top) * height / 2\n",
        "        result = '사다리꼴의 넓이는:' + str(area)\n",
        "        return result\n",
        "\n",
        "a = Square()  # 객체 생성 & 2, 3을 각각 입력해 봅시다."
      ]
    }
  ]
}