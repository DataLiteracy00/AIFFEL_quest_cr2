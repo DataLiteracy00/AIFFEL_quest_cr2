{
  "nbformat": 4,
  "nbformat_minor": 0,
  "metadata": {
    "colab": {
      "provenance": []
    },
    "kernelspec": {
      "name": "python3",
      "display_name": "Python 3"
    },
    "language_info": {
      "name": "python"
    }
  },
  "cells": [
    {
      "cell_type": "code",
      "execution_count": 13,
      "metadata": {
        "colab": {
          "base_uri": "https://localhost:8080/"
        },
        "id": "HQvDvwd7iE26",
        "outputId": "e288f649-5a6a-4a93-a0fe-38aa37ce655e"
      },
      "outputs": [
        {
          "output_type": "stream",
          "name": "stdout",
          "text": [
            "(1257, 64) (1257,)\n",
            "              precision    recall  f1-score   support\n",
            "\n",
            "           0       0.95      0.93      0.94        56\n",
            "           1       0.75      0.75      0.75        55\n",
            "           2       0.73      0.87      0.79        46\n",
            "           3       0.91      0.78      0.84        55\n",
            "           4       0.95      0.87      0.91        61\n",
            "           5       0.88      0.88      0.88        57\n",
            "           6       0.92      0.89      0.90        53\n",
            "           7       0.95      0.82      0.88        51\n",
            "           8       0.64      0.77      0.70        53\n",
            "           9       0.86      0.91      0.88        53\n",
            "\n",
            "    accuracy                           0.85       540\n",
            "   macro avg       0.85      0.85      0.85       540\n",
            "weighted avg       0.86      0.85      0.85       540\n",
            "\n"
          ]
        }
      ],
      "source": [
        "# Feature Data 지정하기\n",
        "# Label Data 지정하기\n",
        "# Target Names 출력해 보기\n",
        "# 데이터 Describe 해 보기\n",
        "# Decision Tree 사용해 보기\n",
        "# Random Forest 사용해 보기\n",
        "# SVM 사용해 보기\n",
        "# SGD Classifier 사용해 보기\n",
        "# Logistic Regression 사용해 보기\n",
        "import pandas as pd\n",
        "from sklearn.datasets import load_digits\n",
        "from sklearn.model_selection import train_test_split\n",
        "from sklearn.metrics import classification_report\n",
        "from sklearn.tree import DecisionTreeClassifier\n",
        "digits = load_digits()\n",
        "# digits.keys() ->['DESCR', 'data', 'feature_names', 'frame', 'images', 'target', 'target_names']\n",
        "digits_data = digits.data #(1797, 64)\n",
        "digits_label = digits.target #(1797,) 라벨테이터 지정 하기\n",
        "# digits.target_names -> [0 1 2 3 4 5 6 7 8 9]\n",
        "#digit_data =pd.DataFrame(data=digits_data,columns= digits.feature_names) #눈으로 보려고 해봤습니다.\n",
        "#print(digit_data.describe())\n",
        "#digit_data['label']=digits.target\n",
        "#print(digit_data) ->라벨 들어가 있음 확인\n",
        "x_train, x_test, y_train, y_test = train_test_split(digits_data,digits_label,test_size=0.3,random_state=25)\n",
        "#판다스 프레임이랑 data명 같이 했다가 열에있는 정보가 라벨까지 한개더 붙었던걸 확인 이름 구분 잘하기\n",
        "\n",
        "print(x_train.shape,y_train.shape)#(1257,) (540,) 총데이터 1797개 데이터 숫자 맞는지 확인\n",
        "\n",
        "\n",
        "D_tree = DecisionTreeClassifier(random_state=32)\n",
        "\n",
        "D_tree.fit(x_train,y_train) #모델 학습\n",
        "\n",
        "y_pred = D_tree.predict(x_test)\n",
        "\n",
        "print(classification_report(y_test,y_pred))"
      ]
    },
    {
      "cell_type": "code",
      "source": [
        "## Random Forest 사용해 보기\n",
        "from sklearn.ensemble import RandomForestClassifier\n",
        "\n",
        "R_forest = RandomForestClassifier(random_state=32)\n",
        "\n",
        "R_forest.fit(x_train,y_train) #모델 학습\n",
        "\n",
        "y_pred = R_forest.predict(x_test)\n",
        "\n",
        "print(classification_report(y_test,y_pred))"
      ],
      "metadata": {
        "colab": {
          "base_uri": "https://localhost:8080/"
        },
        "id": "Qg31Z6xKiP45",
        "outputId": "9c0a761f-fed6-4f3e-88c1-79998c34d28f"
      },
      "execution_count": 14,
      "outputs": [
        {
          "output_type": "stream",
          "name": "stdout",
          "text": [
            "              precision    recall  f1-score   support\n",
            "\n",
            "           0       1.00      1.00      1.00        56\n",
            "           1       0.96      0.96      0.96        55\n",
            "           2       1.00      1.00      1.00        46\n",
            "           3       0.98      0.95      0.96        55\n",
            "           4       0.98      0.98      0.98        61\n",
            "           5       0.96      0.96      0.96        57\n",
            "           6       1.00      0.96      0.98        53\n",
            "           7       0.94      0.96      0.95        51\n",
            "           8       0.93      0.96      0.94        53\n",
            "           9       0.94      0.96      0.95        53\n",
            "\n",
            "    accuracy                           0.97       540\n",
            "   macro avg       0.97      0.97      0.97       540\n",
            "weighted avg       0.97      0.97      0.97       540\n",
            "\n"
          ]
        }
      ]
    },
    {
      "cell_type": "code",
      "source": [
        "# SVM 사용해 보기SVM은 랜덤 시드가 필요 없다. deterministic(결정론적) 알고리즘이기 때문에 항상 실행 결과가 항상 동일함.\n",
        "from sklearn import svm\n",
        "\n",
        "svm_model = svm.SVC() #대신 객체 지정을 해야할 필요가 있음\n",
        "\n",
        "svm_model.fit(x_train,y_train) #모델 학습\n",
        "\n",
        "y_pred = svm_model.predict(x_test)\n",
        "\n",
        "print(classification_report(y_test,y_pred))"
      ],
      "metadata": {
        "colab": {
          "base_uri": "https://localhost:8080/"
        },
        "id": "O6q7nKONj3FY",
        "outputId": "f9f64954-974d-45ba-e404-bd1c47d01c49"
      },
      "execution_count": 16,
      "outputs": [
        {
          "output_type": "stream",
          "name": "stdout",
          "text": [
            "              precision    recall  f1-score   support\n",
            "\n",
            "           0       1.00      1.00      1.00        56\n",
            "           1       0.98      1.00      0.99        55\n",
            "           2       0.98      1.00      0.99        46\n",
            "           3       1.00      0.96      0.98        55\n",
            "           4       1.00      1.00      1.00        61\n",
            "           5       0.98      0.98      0.98        57\n",
            "           6       1.00      1.00      1.00        53\n",
            "           7       1.00      0.98      0.99        51\n",
            "           8       0.96      0.98      0.97        53\n",
            "           9       0.96      0.96      0.96        53\n",
            "\n",
            "    accuracy                           0.99       540\n",
            "   macro avg       0.99      0.99      0.99       540\n",
            "weighted avg       0.99      0.99      0.99       540\n",
            "\n"
          ]
        }
      ]
    },
    {
      "cell_type": "code",
      "source": [
        "# SGD Classifier 사용해 보기\n",
        "from sklearn.linear_model import SGDClassifier\n",
        "\n",
        "sgd = SGDClassifier(random_state= 44)\n",
        "\n",
        "sgd.fit(x_train,y_train) #모델 학습\n",
        "\n",
        "y_pred = sgd.predict(x_test)\n",
        "\n",
        "print(classification_report(y_test,y_pred))"
      ],
      "metadata": {
        "colab": {
          "base_uri": "https://localhost:8080/"
        },
        "id": "FC4xY6EumHEa",
        "outputId": "93c39d5d-e897-40af-ffc6-b15c8149fd64"
      },
      "execution_count": 18,
      "outputs": [
        {
          "output_type": "stream",
          "name": "stdout",
          "text": [
            "              precision    recall  f1-score   support\n",
            "\n",
            "           0       1.00      1.00      1.00        56\n",
            "           1       1.00      0.75      0.85        55\n",
            "           2       0.98      1.00      0.99        46\n",
            "           3       0.91      0.96      0.94        55\n",
            "           4       0.98      0.98      0.98        61\n",
            "           5       0.97      0.98      0.97        57\n",
            "           6       0.98      0.96      0.97        53\n",
            "           7       1.00      0.92      0.96        51\n",
            "           8       0.74      0.96      0.84        53\n",
            "           9       0.94      0.91      0.92        53\n",
            "\n",
            "    accuracy                           0.94       540\n",
            "   macro avg       0.95      0.94      0.94       540\n",
            "weighted avg       0.95      0.94      0.94       540\n",
            "\n"
          ]
        }
      ]
    },
    {
      "cell_type": "code",
      "source": [
        "from sklearn.linear_model import LogisticRegression #기본 solver='lbfgs'인 경우 결정론적이기에 랜덤 설정불필요\n",
        "#최적화 방식에 따라 랜덤설정 LogisticRegression(solver='saga',random_state=42 ) 데 이터 크기와 메모리 요구사항에 따라 사용\n",
        "\n",
        "\n",
        "logi_model = LogisticRegression()\n",
        "logi_model = LogisticRegression(max_iter=1000)\n",
        "logi_model.fit(x_train,y_train) #모델 학습\n",
        "\n",
        "y_pred = logi_model.predict(x_test)\n",
        "\n",
        "print(classification_report(y_test,y_pred))"
      ],
      "metadata": {
        "colab": {
          "base_uri": "https://localhost:8080/"
        },
        "id": "MMsXRWAWnA_M",
        "outputId": "9055b8bd-ce6c-49a6-9e60-360981333d21"
      },
      "execution_count": 21,
      "outputs": [
        {
          "output_type": "stream",
          "name": "stdout",
          "text": [
            "              precision    recall  f1-score   support\n",
            "\n",
            "           0       1.00      1.00      1.00        56\n",
            "           1       0.95      0.95      0.95        55\n",
            "           2       1.00      0.98      0.99        46\n",
            "           3       0.96      0.95      0.95        55\n",
            "           4       0.98      0.98      0.98        61\n",
            "           5       0.95      0.95      0.95        57\n",
            "           6       1.00      0.94      0.97        53\n",
            "           7       1.00      0.92      0.96        51\n",
            "           8       0.93      0.94      0.93        53\n",
            "           9       0.85      0.98      0.91        53\n",
            "\n",
            "    accuracy                           0.96       540\n",
            "   macro avg       0.96      0.96      0.96       540\n",
            "weighted avg       0.96      0.96      0.96       540\n",
            "\n"
          ]
        }
      ]
    }
  ]
}