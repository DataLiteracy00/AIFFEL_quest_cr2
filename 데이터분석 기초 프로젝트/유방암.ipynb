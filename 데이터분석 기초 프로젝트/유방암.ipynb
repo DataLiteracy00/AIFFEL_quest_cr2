{
  "nbformat": 4,
  "nbformat_minor": 0,
  "metadata": {
    "colab": {
      "provenance": []
    },
    "kernelspec": {
      "name": "python3",
      "display_name": "Python 3"
    },
    "language_info": {
      "name": "python"
    }
  },
  "cells": [
    {
      "cell_type": "code",
      "execution_count": 2,
      "metadata": {
        "colab": {
          "base_uri": "https://localhost:8080/"
        },
        "id": "tu5p-ofdshng",
        "outputId": "5a571286-2539-4de8-9908-e077308dfd8e"
      },
      "outputs": [
        {
          "output_type": "stream",
          "name": "stdout",
          "text": [
            "              precision    recall  f1-score   support\n",
            "\n",
            "           0       0.89      0.87      0.88        39\n",
            "           1       0.93      0.95      0.94        75\n",
            "\n",
            "    accuracy                           0.92       114\n",
            "   macro avg       0.91      0.91      0.91       114\n",
            "weighted avg       0.92      0.92      0.92       114\n",
            "\n"
          ]
        }
      ],
      "source": [
        "# Feature Data 지정하기\n",
        "# Label Data 지정하기\n",
        "# Target Names 출력해 보기\n",
        "# 데이터 Describe 해 보기\n",
        "# Decision Tree 사용해 보기\n",
        "# Random Forest 사용해 보기\n",
        "# SVM 사용해 보기\n",
        "# SGD Classifier 사용해 보기\n",
        "# Logistic Regression 사용해 보기\n",
        "import pandas as pd\n",
        "from sklearn.datasets import load_breast_cancer\n",
        "from sklearn.model_selection import train_test_split\n",
        "from sklearn.metrics import classification_report\n",
        "from sklearn.tree import DecisionTreeClassifier\n",
        "\n",
        "cancer = load_breast_cancer()\n",
        "\n",
        "#print(cancer.keys())#(['data', 'target', 'frame', 'target_names', 'DESCR', 'feature_names', 'filename', 'data_module'])\n",
        "#print(cancer.feature_names)#['mean radius' 'mean texture' 'mean perimeter' 'mean area'\n",
        "\"\"\"\n",
        " 'mean smoothness' 'mean compactness' 'mean concavity'\n",
        " 'mean concave points' 'mean symmetry' 'mean fractal dimension'\n",
        " 'radius error' 'texture error' 'perimeter error' 'area error'\n",
        " 'smoothness error' 'compactness error' 'concavity error'\n",
        " 'concave points error' 'symmetry error' 'fractal dimension error'\n",
        " 'worst radius' 'worst texture' 'worst perimeter' 'worst area'\n",
        " 'worst smoothness' 'worst compactness' 'worst concavity'\n",
        " 'worst concave points' 'worst symmetry' 'worst fractal dimension']\n",
        " \"\"\"\n",
        "#print(cancer.target_names) #['malignant' 'benign'] 악성 or 양성\n",
        "cancer_data = cancer.data\n",
        "cancer_label = cancer.target\n",
        "\n",
        "x_train, x_test, y_train, y_test = train_test_split(cancer_data,cancer_label,test_size=0.2,random_state=25)\n",
        "\n",
        "D_tree = DecisionTreeClassifier(random_state=32)\n",
        "\n",
        "D_tree.fit(x_train,y_train) #모델 학습\n",
        "\n",
        "y_pred = D_tree.predict(x_test)\n",
        "\n",
        "print(classification_report(y_test,y_pred))"
      ]
    },
    {
      "cell_type": "code",
      "source": [
        "## Random Forest 사용해 보기\n",
        "from sklearn.ensemble import RandomForestClassifier\n",
        "\n",
        "R_forest = RandomForestClassifier(random_state=32)\n",
        "\n",
        "R_forest.fit(x_train,y_train) #모델 학습\n",
        "\n",
        "y_pred = R_forest.predict(x_test)\n",
        "\n",
        "print(classification_report(y_test,y_pred))"
      ],
      "metadata": {
        "colab": {
          "base_uri": "https://localhost:8080/"
        },
        "id": "2la3kSfnsxQx",
        "outputId": "a380d8dc-0639-4c64-8115-74e5076aff68"
      },
      "execution_count": 4,
      "outputs": [
        {
          "output_type": "stream",
          "name": "stdout",
          "text": [
            "              precision    recall  f1-score   support\n",
            "\n",
            "           0       0.92      0.90      0.91        39\n",
            "           1       0.95      0.96      0.95        75\n",
            "\n",
            "    accuracy                           0.94       114\n",
            "   macro avg       0.93      0.93      0.93       114\n",
            "weighted avg       0.94      0.94      0.94       114\n",
            "\n"
          ]
        }
      ]
    },
    {
      "cell_type": "code",
      "source": [
        "# SVM 사용해 보기SVM은 랜덤 시드가 필요 없다. deterministic(결정론적) 알고리즘이기 때문에 항상 실행 결과가 항상 동일함.\n",
        "from sklearn import svm\n",
        "\n",
        "svm_model = svm.SVC() #대신 객체 지정을 해야할 필요가 있음\n",
        "\n",
        "svm_model.fit(x_train,y_train) #모델 학습\n",
        "\n",
        "y_pred = svm_model.predict(x_test)\n",
        "\n",
        "print(classification_report(y_test,y_pred))"
      ],
      "metadata": {
        "colab": {
          "base_uri": "https://localhost:8080/"
        },
        "id": "_GSISrEDs35S",
        "outputId": "6b41f517-0842-4406-868e-8cf984b336a0"
      },
      "execution_count": 6,
      "outputs": [
        {
          "output_type": "stream",
          "name": "stdout",
          "text": [
            "              precision    recall  f1-score   support\n",
            "\n",
            "           0       0.97      0.77      0.86        39\n",
            "           1       0.89      0.99      0.94        75\n",
            "\n",
            "    accuracy                           0.91       114\n",
            "   macro avg       0.93      0.88      0.90       114\n",
            "weighted avg       0.92      0.91      0.91       114\n",
            "\n"
          ]
        }
      ]
    },
    {
      "cell_type": "code",
      "source": [
        "# SGD Classifier 사용해 보기\n",
        "from sklearn.linear_model import SGDClassifier\n",
        "\n",
        "sgd = SGDClassifier(random_state= 44)\n",
        "\n",
        "sgd.fit(x_train,y_train) #모델 학습\n",
        "\n",
        "y_pred = sgd.predict(x_test)\n",
        "\n",
        "print(classification_report(y_test,y_pred))"
      ],
      "metadata": {
        "colab": {
          "base_uri": "https://localhost:8080/"
        },
        "id": "LzrQ7d1ts6ML",
        "outputId": "e6fc3057-6360-435d-83db-c08d96895f03"
      },
      "execution_count": 8,
      "outputs": [
        {
          "output_type": "stream",
          "name": "stdout",
          "text": [
            "              precision    recall  f1-score   support\n",
            "\n",
            "           0       0.87      0.85      0.86        39\n",
            "           1       0.92      0.93      0.93        75\n",
            "\n",
            "    accuracy                           0.90       114\n",
            "   macro avg       0.89      0.89      0.89       114\n",
            "weighted avg       0.90      0.90      0.90       114\n",
            "\n"
          ]
        }
      ]
    },
    {
      "cell_type": "code",
      "source": [
        "from sklearn.linear_model import LogisticRegression #기본 solver='lbfgs'인 경우 결정론적이기에 랜덤 설정불필요\n",
        "#최적화 방식에 따라 랜덤설정 LogisticRegression(solver='saga',random_state=42 ) 데 이터 크기와 메모리 요구사항에 따라 사용\n",
        "\n",
        "\n",
        "logi_model = LogisticRegression()\n",
        "logi_model = LogisticRegression(max_iter=10000)\n",
        "logi_model.fit(x_train,y_train) #모델 학습\n",
        "\n",
        "y_pred = logi_model.predict(x_test)\n",
        "\n",
        "print(classification_report(y_test,y_pred))"
      ],
      "metadata": {
        "colab": {
          "base_uri": "https://localhost:8080/"
        },
        "id": "VDkdAJPfs95y",
        "outputId": "d0b049aa-0bdb-4bd6-d938-6e22bc4a7d7c"
      },
      "execution_count": 14,
      "outputs": [
        {
          "output_type": "stream",
          "name": "stdout",
          "text": [
            "              precision    recall  f1-score   support\n",
            "\n",
            "           0       0.90      0.90      0.90        39\n",
            "           1       0.95      0.95      0.95        75\n",
            "\n",
            "    accuracy                           0.93       114\n",
            "   macro avg       0.92      0.92      0.92       114\n",
            "weighted avg       0.93      0.93      0.93       114\n",
            "\n"
          ]
        }
      ]
    }
  ]
}