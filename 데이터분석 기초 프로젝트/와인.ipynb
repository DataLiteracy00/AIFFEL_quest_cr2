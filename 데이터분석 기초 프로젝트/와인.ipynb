{
  "nbformat": 4,
  "nbformat_minor": 0,
  "metadata": {
    "colab": {
      "provenance": []
    },
    "kernelspec": {
      "name": "python3",
      "display_name": "Python 3"
    },
    "language_info": {
      "name": "python"
    }
  },
  "cells": [
    {
      "cell_type": "code",
      "execution_count": 2,
      "metadata": {
        "colab": {
          "base_uri": "https://localhost:8080/"
        },
        "id": "8V8MDdvxpeLY",
        "outputId": "d82ac268-03e0-4dbc-bdb1-c10ce05ef418"
      },
      "outputs": [
        {
          "output_type": "stream",
          "name": "stdout",
          "text": [
            "(142, 13) (36, 13)\n",
            "              precision    recall  f1-score   support\n",
            "\n",
            "           0       0.91      0.91      0.91        11\n",
            "           1       0.94      0.89      0.91        18\n",
            "           2       0.88      1.00      0.93         7\n",
            "\n",
            "    accuracy                           0.92        36\n",
            "   macro avg       0.91      0.93      0.92        36\n",
            "weighted avg       0.92      0.92      0.92        36\n",
            "\n"
          ]
        }
      ],
      "source": [
        "# Feature Data 지정하기\n",
        "# Label Data 지정하기\n",
        "# Target Names 출력해 보기\n",
        "# 데이터 Describe 해 보기\n",
        "# Decision Tree 사용해 보기\n",
        "# Random Forest 사용해 보기\n",
        "# SVM 사용해 보기\n",
        "# SGD Classifier 사용해 보기\n",
        "# Logistic Regression 사용해 보기\n",
        "import pandas as pd\n",
        "from sklearn.datasets import load_wine\n",
        "from sklearn.model_selection import train_test_split\n",
        "from sklearn.metrics import classification_report\n",
        "from sklearn.tree import DecisionTreeClassifier\n",
        "\n",
        "wine = load_wine()\n",
        "#print(wine.keys())#dict_keys(['data', 'target', 'frame', 'target_names', 'DESCR', 'feature_names'])\n",
        "#print(wine.feature_names)['alcohol', 'malic_acid', 'ash', 'alcalinity_of_ash', 'magnesium', 'total_phenols', 'flavanoids', 'nonflavanoid_phenols', 'proanthocyanins', 'color_intensity', 'hue', 'od280/od315_of_diluted_wines', 'proline']\n",
        "#print(wine.target_names) # 0 , 1 ,2 세개의 데이터 ['class_0' 'class_1' 'class_2'] 클래스로 분류\n",
        "wine_data = wine.data\n",
        "wine_label = wine.target\n",
        "\n",
        "wine_pd_data = pd.DataFrame(data=wine_data,columns= wine.feature_names)# 이름 따로 구분\n",
        "\n",
        "\n",
        "wine_pd_data['label'] = wine.target\n",
        "#print(wine_pd_data) 라벨 붙어 있는지 확인\n",
        "x_train, x_test, y_train, y_test = train_test_split(wine_data,wine_label,test_size=0.2,random_state=25)\n",
        "\n",
        "print(x_train.shape,x_test.shape)\n",
        "\n",
        "D_tree = DecisionTreeClassifier(random_state=32)\n",
        "\n",
        "D_tree.fit(x_train,y_train) #모델 학습\n",
        "\n",
        "y_pred = D_tree.predict(x_test)\n",
        "\n",
        "print(classification_report(y_test,y_pred))"
      ]
    },
    {
      "cell_type": "code",
      "source": [
        "## Random Forest 사용해 보기\n",
        "from sklearn.ensemble import RandomForestClassifier\n",
        "\n",
        "R_forest = RandomForestClassifier(random_state=32)\n",
        "\n",
        "R_forest.fit(x_train,y_train) #모델 학습\n",
        "\n",
        "y_pred = R_forest.predict(x_test)\n",
        "\n",
        "print(classification_report(y_test,y_pred))"
      ],
      "metadata": {
        "colab": {
          "base_uri": "https://localhost:8080/"
        },
        "id": "QwfaFOPApq7n",
        "outputId": "8ea4d1a7-0442-4124-8f1b-d3f262a8ebb8"
      },
      "execution_count": 8,
      "outputs": [
        {
          "output_type": "stream",
          "name": "stdout",
          "text": [
            "              precision    recall  f1-score   support\n",
            "\n",
            "           0       1.00      1.00      1.00        11\n",
            "           1       1.00      1.00      1.00        18\n",
            "           2       1.00      1.00      1.00         7\n",
            "\n",
            "    accuracy                           1.00        36\n",
            "   macro avg       1.00      1.00      1.00        36\n",
            "weighted avg       1.00      1.00      1.00        36\n",
            "\n"
          ]
        }
      ]
    },
    {
      "cell_type": "code",
      "source": [
        "# SVM 사용해 보기SVM은 랜덤 시드가 필요 없다. deterministic(결정론적) 알고리즘이기 때문에 항상 실행 결과가 항상 동일함.\n",
        "from sklearn import svm\n",
        "\n",
        "svm_model = svm.SVC() #대신 객체 지정을 해야할 필요가 있음\n",
        "\n",
        "svm_model.fit(x_train,y_train) #모델 학습\n",
        "\n",
        "y_pred = svm_model.predict(x_test)\n",
        "\n",
        "print(classification_report(y_test,y_pred))"
      ],
      "metadata": {
        "colab": {
          "base_uri": "https://localhost:8080/"
        },
        "id": "spO-yvJEpzDB",
        "outputId": "82d4859f-1bd1-4650-afb4-5f226c8a4d12"
      },
      "execution_count": 9,
      "outputs": [
        {
          "output_type": "stream",
          "name": "stdout",
          "text": [
            "              precision    recall  f1-score   support\n",
            "\n",
            "           0       0.89      0.73      0.80        11\n",
            "           1       0.82      0.78      0.80        18\n",
            "           2       0.40      0.57      0.47         7\n",
            "\n",
            "    accuracy                           0.72        36\n",
            "   macro avg       0.70      0.69      0.69        36\n",
            "weighted avg       0.76      0.72      0.74        36\n",
            "\n"
          ]
        }
      ]
    },
    {
      "cell_type": "code",
      "source": [
        "# SGD Classifier 사용해 보기\n",
        "from sklearn.linear_model import SGDClassifier\n",
        "\n",
        "sgd = SGDClassifier(random_state= 44)\n",
        "\n",
        "sgd.fit(x_train,y_train) #모델 학습\n",
        "\n",
        "y_pred = sgd.predict(x_test)\n",
        "\n",
        "print(classification_report(y_test,y_pred))"
      ],
      "metadata": {
        "colab": {
          "base_uri": "https://localhost:8080/"
        },
        "id": "OwyxU-lrp424",
        "outputId": "a09094dd-7a5d-4242-c92c-7748a415f999"
      },
      "execution_count": 11,
      "outputs": [
        {
          "output_type": "stream",
          "name": "stdout",
          "text": [
            "              precision    recall  f1-score   support\n",
            "\n",
            "           0       0.67      0.91      0.77        11\n",
            "           1       1.00      0.78      0.88        18\n",
            "           2       0.57      0.57      0.57         7\n",
            "\n",
            "    accuracy                           0.78        36\n",
            "   macro avg       0.75      0.75      0.74        36\n",
            "weighted avg       0.81      0.78      0.78        36\n",
            "\n"
          ]
        }
      ]
    },
    {
      "cell_type": "code",
      "source": [
        "from sklearn.linear_model import LogisticRegression #기본 solver='lbfgs'인 경우 결정론적이기에 랜덤 설정불필요\n",
        "#최적화 방식에 따라 랜덤설정 LogisticRegression(solver='saga',random_state=42 ) 데 이터 크기와 메모리 요구사항에 따라 사용\n",
        "\n",
        "\n",
        "logi_model = LogisticRegression()\n",
        "logi_model = LogisticRegression(max_iter=200) #이터를 늘리면 정확도가 늘어나지만 실제 수없이많은 데이터를 다룰때 효과적인가?\n",
        "logi_model.fit(x_train,y_train) #모델 학습\n",
        "\n",
        "y_pred = logi_model.predict(x_test)\n",
        "\n",
        "print(classification_report(y_test,y_pred))"
      ],
      "metadata": {
        "colab": {
          "base_uri": "https://localhost:8080/"
        },
        "id": "1YVDMuuBqU1P",
        "outputId": "a3556191-c27a-45e9-d7a1-3060252e0746"
      },
      "execution_count": 17,
      "outputs": [
        {
          "output_type": "stream",
          "name": "stdout",
          "text": [
            "              precision    recall  f1-score   support\n",
            "\n",
            "           0       1.00      1.00      1.00        11\n",
            "           1       1.00      0.94      0.97        18\n",
            "           2       0.88      1.00      0.93         7\n",
            "\n",
            "    accuracy                           0.97        36\n",
            "   macro avg       0.96      0.98      0.97        36\n",
            "weighted avg       0.98      0.97      0.97        36\n",
            "\n"
          ]
        },
        {
          "output_type": "stream",
          "name": "stderr",
          "text": [
            "/usr/local/lib/python3.10/dist-packages/sklearn/linear_model/_logistic.py:469: ConvergenceWarning: lbfgs failed to converge (status=1):\n",
            "STOP: TOTAL NO. of ITERATIONS REACHED LIMIT.\n",
            "\n",
            "Increase the number of iterations (max_iter) or scale the data as shown in:\n",
            "    https://scikit-learn.org/stable/modules/preprocessing.html\n",
            "Please also refer to the documentation for alternative solver options:\n",
            "    https://scikit-learn.org/stable/modules/linear_model.html#logistic-regression\n",
            "  n_iter_i = _check_optimize_result(\n"
          ]
        }
      ]
    }
  ]
}